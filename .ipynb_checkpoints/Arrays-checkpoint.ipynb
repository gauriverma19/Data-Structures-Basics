{
 "cells": [
  {
   "cell_type": "markdown",
   "metadata": {},
   "source": [
    "# Dyanimic Array"
   ]
  },
  {
   "cell_type": "code",
   "execution_count": 4,
   "metadata": {},
   "outputs": [
    {
     "name": "stdout",
     "output_type": "stream",
     "text": [
      "length:   0; Size in bytes:   64\n",
      "length:   1; Size in bytes:   96\n",
      "length:   2; Size in bytes:   96\n",
      "length:   3; Size in bytes:   96\n",
      "length:   4; Size in bytes:   96\n",
      "length:   5; Size in bytes:  128\n",
      "length:   6; Size in bytes:  128\n",
      "length:   7; Size in bytes:  128\n",
      "length:   8; Size in bytes:  128\n",
      "length:   9; Size in bytes:  192\n"
     ]
    }
   ],
   "source": [
    "import sys\n",
    "\n",
    "n = 10\n",
    "\n",
    "data =[]\n",
    "\n",
    "for i in range(n):\n",
    "    \n",
    "    #number of elements\n",
    "    a = len(data)\n",
    "    \n",
    "    #get size of each element\n",
    "    b = sys.getsizeof(data)\n",
    "    print('length: {0:3d}; Size in bytes: {1:4d}'.format(a,b))\n",
    "    \n",
    "    #increase size by 1\n",
    "    data.append(n)"
   ]
  },
  {
   "cell_type": "markdown",
   "metadata": {},
   "source": [
    "## Problem 1: Anagram Check\n",
    "\n",
    "Given 2 strings, check to see if they are anagrams. An anagram is when 2 strings can be written using the same exact letters."
   ]
  },
  {
   "cell_type": "code",
   "execution_count": 38,
   "metadata": {},
   "outputs": [],
   "source": [
    "def ana(string1, string2):\n",
    "    \n",
    "    string1 = string1.replace(' ', '').lower()\n",
    "    string2 = string2.replace(' ', '').lower()\n",
    "    \n",
    "    \n",
    "    if len(string1)!=len(string2):\n",
    "        return False\n",
    "    \n",
    "    #make disctionary\n",
    "    count = {}\n",
    "    \n",
    "    for letter in string1:\n",
    "        if letter in count:\n",
    "            count[letter] += 1\n",
    "        else:\n",
    "            count[letter] = 1\n",
    "            \n",
    "    for letter in string2:\n",
    "        if letter in count:\n",
    "            count[letter] -=1\n",
    "        else:\n",
    "            count[letter] = 1\n",
    "            \n",
    "    for k in count:\n",
    "        if count[k]==0:\n",
    "            return True\n",
    "        else:\n",
    "            return False"
   ]
  },
  {
   "cell_type": "code",
   "execution_count": 39,
   "metadata": {},
   "outputs": [
    {
     "data": {
      "text/plain": [
       "False"
      ]
     },
     "execution_count": 39,
     "metadata": {},
     "output_type": "execute_result"
    }
   ],
   "source": [
    "ana('dog', 'cat')"
   ]
  },
  {
   "cell_type": "code",
   "execution_count": 40,
   "metadata": {},
   "outputs": [
    {
     "data": {
      "text/plain": [
       "True"
      ]
     },
     "execution_count": 40,
     "metadata": {},
     "output_type": "execute_result"
    }
   ],
   "source": [
    "ana('cat','tac')"
   ]
  },
  {
   "cell_type": "markdown",
   "metadata": {},
   "source": [
    "# Problem 2: Array Pair Sum\n",
    "\n",
    "Given an array, output all unique pairs that sum to a specific value k\n",
    "\n",
    "pairsum([1,2,3,4], 5)"
   ]
  },
  {
   "cell_type": "code",
   "execution_count": 102,
   "metadata": {},
   "outputs": [],
   "source": [
    "def pairsum(lst, total):\n",
    "    lentot = 0\n",
    "    for i in range(0,len(lst)-1):\n",
    "        for j in range(i+1, len(lst)):\n",
    "            if lst[i]+lst[j] == total:\n",
    "                lentot+=1\n",
    "                print(\"Pair with sum\", total,\"is: (\", lst[i],\",\",lst[j],\")\")\n",
    "        else:\n",
    "            totlen = 0\n",
    "    print(\"count of pairs\", lentot)"
   ]
  },
  {
   "cell_type": "code",
   "execution_count": 103,
   "metadata": {},
   "outputs": [
    {
     "name": "stdout",
     "output_type": "stream",
     "text": [
      "Pair with sum 5 is: ( 1 , 4 )\n",
      "Pair with sum 5 is: ( 2 , 3 )\n",
      "count of pairs 2\n"
     ]
    }
   ],
   "source": [
    "pairsum([1,2,3,4],5)"
   ]
  },
  {
   "cell_type": "code",
   "execution_count": 106,
   "metadata": {},
   "outputs": [],
   "source": [
    "def pairsum(arr, k):\n",
    "    if len(arr)<2:\n",
    "        return\n",
    "    \n",
    "    #making sets for tracking\n",
    "    seen = set()\n",
    "    output = set()\n",
    "    \n",
    "    for num in arr:\n",
    "        target = k-num\n",
    "        \n",
    "        if target not in seen:\n",
    "            seen.add(num)\n",
    "            \n",
    "        else:\n",
    "            output.add((min(num,target),max(num,target)))\n",
    "    return len(output)"
   ]
  },
  {
   "cell_type": "code",
   "execution_count": 107,
   "metadata": {},
   "outputs": [
    {
     "data": {
      "text/plain": [
       "2"
      ]
     },
     "execution_count": 107,
     "metadata": {},
     "output_type": "execute_result"
    }
   ],
   "source": [
    "pairsum([1,2,3,4,1],5)"
   ]
  },
  {
   "cell_type": "markdown",
   "metadata": {},
   "source": [
    "# Find missing element"
   ]
  },
  {
   "cell_type": "code",
   "execution_count": 135,
   "metadata": {},
   "outputs": [],
   "source": [
    "def finder(arr1, arr2):\n",
    "    sum1=0\n",
    "    sum2=0\n",
    "    for i in arr1:\n",
    "        sum1+=i\n",
    "    for j in arr2:\n",
    "        sum2+=j        \n",
    "    return sum1-sum2"
   ]
  },
  {
   "cell_type": "code",
   "execution_count": 136,
   "metadata": {},
   "outputs": [
    {
     "data": {
      "text/plain": [
       "5"
      ]
     },
     "execution_count": 136,
     "metadata": {},
     "output_type": "execute_result"
    }
   ],
   "source": [
    "arr1 = [1,2,3,4,5,6,7]\n",
    "arr2 = [4,3,2,1,6,7]\n",
    "finder(arr1,arr2)"
   ]
  },
  {
   "cell_type": "code",
   "execution_count": null,
   "metadata": {},
   "outputs": [],
   "source": []
  }
 ],
 "metadata": {
  "kernelspec": {
   "display_name": "Python 3",
   "language": "python",
   "name": "python3"
  },
  "language_info": {
   "codemirror_mode": {
    "name": "ipython",
    "version": 3
   },
   "file_extension": ".py",
   "mimetype": "text/x-python",
   "name": "python",
   "nbconvert_exporter": "python",
   "pygments_lexer": "ipython3",
   "version": "3.7.4"
  }
 },
 "nbformat": 4,
 "nbformat_minor": 4
}
